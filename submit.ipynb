{
 "cells": [
  {
   "cell_type": "code",
   "execution_count": 1,
   "metadata": {},
   "outputs": [
    {
     "name": "stderr",
     "output_type": "stream",
     "text": [
      "/home/deepak/anaconda3/lib/python3.6/site-packages/sklearn/cross_validation.py:41: DeprecationWarning: This module was deprecated in version 0.18 in favor of the model_selection module into which all the refactored classes and functions are moved. Also note that the interface of the new CV iterators are different from that of this module. This module will be removed in 0.20.\n",
      "  \"This module will be removed in 0.20.\", DeprecationWarning)\n"
     ]
    }
   ],
   "source": [
    "from sklearn.linear_model import LinearRegression  # for Logistic Regression algorithm\n",
    "from sklearn.cross_validation import train_test_split #to split the dataset for training and testing\n",
    "from sklearn import metrics #for checking the model accuracy\n",
    "from sklearn.tree import DecisionTreeClassifier #for using Decision Tree Algoithm\n",
    "from sklearn.tree import DecisionTreeRegressor\n",
    "from sklearn.ensemble import RandomForestClassifier # A combine model of many decision trees\n",
    "from sklearn.metrics import accuracy_score\n",
    "from sklearn.tree import DecisionTreeRegressor\n",
    "from sklearn.naive_bayes import GaussianNB\n",
    "from sklearn import svm\n",
    "from sklearn import datasets, linear_model\n",
    "from sklearn import preprocessing\n",
    "from sklearn.model_selection import train_test_split\n",
    "from sklearn.preprocessing import LabelEncoder\n",
    "from sklearn.pipeline import Pipeline\n",
    "from sklearn import tree\n",
    "import numpy as np\n",
    "import pandas as pd\n",
    "import warnings\n",
    "warnings.filterwarnings(\"ignore\")\n",
    "import seaborn as sns\n",
    "import matplotlib.pyplot as plt\n",
    "from sklearn.metrics import r2_score\n",
    "import sklearn\n",
    "from matplotlib.colors import ListedColormap\n",
    "sns.set(style=\"white\", color_codes=True)\n",
    "class MultiColumnLabelEncoder:\n",
    "    def __init__(self,columns = None):\n",
    "        self.columns = columns # array of column names to encode\n",
    "\n",
    "    def fit(self,X,y=None):\n",
    "        return self # not relevant here\n",
    "\n",
    "    def transform(self,X):\n",
    "        '''\n",
    "        Transforms columns of X specified in self.columns using\n",
    "        LabelEncoder(). If no columns specified, transforms all\n",
    "        columns in X.\n",
    "        '''\n",
    "        output = X.copy()\n",
    "        if self.columns is not None:\n",
    "            for col in self.columns:\n",
    "                output[col] = LabelEncoder().fit_transform(output[col])\n",
    "        else:\n",
    "            for colname,col in output.iteritems():\n",
    "                output[colname] = LabelEncoder().fit_transform(col)\n",
    "        return output\n",
    "\n",
    "    def fit_transform(self,X,y=None):\n",
    "        return self.fit(X,y).transform(X)\n"
   ]
  },
  {
   "cell_type": "code",
   "execution_count": 2,
   "metadata": {},
   "outputs": [
    {
     "name": "stdout",
     "output_type": "stream",
     "text": [
      "    id  alcohol_consumption  location_class  workstatus  score  divorce  \\\n",
      "0    0                    1               3           7   36.0      0.8   \n",
      "1    1                    4               2           7   66.0      0.8   \n",
      "2    2                    6               6           8   27.0      1.0   \n",
      "3    3                    0               4           3   30.0      1.0   \n",
      "4    4                    6               4           3   35.0      1.0   \n",
      "5    5                    7               3           7   41.0      1.0   \n",
      "6    6                    5               6           8   17.0      1.0   \n",
      "7    7                    6               4           3   36.0      1.0   \n",
      "8    8                    3               3           1   27.0      1.0   \n",
      "9    9                    4               2           7   50.0      1.2   \n",
      "10  10                    7               5           2   22.0      1.0   \n",
      "11  11                    4               1           7   43.0      1.2   \n",
      "12  12                    5               3           7   47.0      0.8   \n",
      "13  13                    4               1           3   61.0      1.0   \n",
      "14  14                    4               2           7   86.0      1.0   \n",
      "15  15                    1               6           7   31.0      0.8   \n",
      "16  16                    3               2           7   38.0      1.0   \n",
      "17  17                    6               2           7   41.0      1.2   \n",
      "18  18                    7               4           1   28.0      1.0   \n",
      "\n",
      "    widowed  education  residence_region  babies  preteen  teens  income  \\\n",
      "0       1.2       13.0                 7     0.0      0.0    0.0       4   \n",
      "1       1.0       19.0                 7     0.0      0.0    0.0       5   \n",
      "2       1.0        9.0                 8     0.0      0.0    0.0       4   \n",
      "3       1.0        7.0                 5     1.0      0.0    0.0       0   \n",
      "4       1.2        6.0                 7     0.0      0.0    0.0       2   \n",
      "5       1.0       13.0                 0     3.0      0.0    0.0       4   \n",
      "6       1.0       13.0                 0     0.0      0.0    0.0       5   \n",
      "7       1.2        4.0                 1     0.0      0.0    0.0      10   \n",
      "8       1.0       12.0                 6     2.0      0.0    0.0       5   \n",
      "9       1.0       15.0                 0     2.0      0.0    0.0       5   \n",
      "10      1.0       12.0                 0     0.0      1.0    0.0       5   \n",
      "11      1.0       17.0                 7     0.0      0.0    0.0       0   \n",
      "12      1.0       18.0                 0     0.0      0.0    0.0       5   \n",
      "13      1.2       12.0                 0     0.0      0.0    0.0       4   \n",
      "14      1.0       20.0                 9     0.0      0.0    1.0       5   \n",
      "15      1.2       16.0                 3     0.0      0.0    0.0       5   \n",
      "16      1.0       13.0                 7     1.0      0.0    0.0       4   \n",
      "17      1.0       12.0                 0     1.0      1.0    0.0       3   \n",
      "18      0.8       11.0                 0     0.0      0.0    0.0       5   \n",
      "\n",
      "    engagement_religion  x1  tvhours  gender  response  \n",
      "0                     9   2      4.0       1         1  \n",
      "1                     7   3      8.0       1         2  \n",
      "2                     5   2      5.0       0         1  \n",
      "3                     9   2      2.0       0         0  \n",
      "4                     8   1      2.0       0         1  \n",
      "5                     9   2      2.0       0         1  \n",
      "6                     6   1      2.0       1         2  \n",
      "7                     9   1      2.0       1         1  \n",
      "8                     5   3      2.0       1         1  \n",
      "9                     1   3      2.0       0         1  \n",
      "10                    8   1      2.0       0         1  \n",
      "11                    9   3      3.0       0         1  \n",
      "12                    7   3      2.0       0         1  \n",
      "13                    3   2      6.0       1         2  \n",
      "14                    6   3      1.0       0         1  \n",
      "15                    8   3      2.0       0         1  \n",
      "16                    8   3      2.0       1         2  \n",
      "17                    9   1      2.0       0         2  \n",
      "18                    2   3      2.0       1         2  \n"
     ]
    },
    {
     "data": {
      "text/plain": [
       "'\\ntrain, test = train_test_split(train, test_size = 0.3, random_state=900)\\n\\ntrain_x = train.iloc[:,0:17]\\ntrain_y = train.response # output of our training data\\ntest_x = test.iloc[:,0:17]\\ntest_y = test.response # output of our training data\\nprint(train_x.head(5))\\nprint(\"shape of train \",train_x.shape , train_y.shape) #checking dimension of various data frames\\nprint(\"shape of test \",test_x.shape, test_y.shape)\\n'"
      ]
     },
     "execution_count": 2,
     "metadata": {},
     "output_type": "execute_result"
    }
   ],
   "source": [
    "train = pd.read_csv('train.csv');\n",
    "#print (\"Counts of mobile price range\",train['G3'].value_counts()) #checking counts of each type  of output\n",
    "#train = pd.get_dummies(train,columns=['Mjob', 'Fjob','reason'])\n",
    "train=train.fillna(\" \")\n",
    "train = MultiColumnLabelEncoder(columns = ['id','alcohol_consumption','location_class','workstatus','residence_region','income','engagement_religion','response']).fit_transform(train)\n",
    "train=train.replace(' ',np.NaN)\n",
    "train=train.fillna(train.median())\n",
    "print(train.head(19))\n",
    "'''\n",
    "train, test = train_test_split(train, test_size = 0.3, random_state=900)\n",
    "\n",
    "train_x = train.iloc[:,0:17]\n",
    "train_y = train.response # output of our training data\n",
    "test_x = test.iloc[:,0:17]\n",
    "test_y = test.response # output of our training data\n",
    "print(train_x.head(5))\n",
    "print(\"shape of train \",train_x.shape , train_y.shape) #checking dimension of various data frames\n",
    "print(\"shape of test \",test_x.shape, test_y.shape)\n",
    "'''"
   ]
  },
  {
   "cell_type": "code",
   "execution_count": 79,
   "metadata": {},
   "outputs": [
    {
     "data": {
      "image/png": "[encoded data removed]",
      "text/plain": [
       "<matplotlib.figure.Figure at 0x7f971fcfd7b8>"
      ]
     },
     "metadata": {},
     "output_type": "display_data"
    },
    {
     "data": {
      "image/png": "[encoded data removed]",
      "text/plain": [
       "<matplotlib.figure.Figure at 0x7f971fd5be80>"
      ]
     },
     "metadata": {},
     "output_type": "display_data"
    },
    {
     "data": {
      "image/png": "[encoded data removed]",
      "text/plain": [
       "<matplotlib.figure.Figure at 0x7f972007bb00>"
      ]
     },
     "metadata": {},
     "output_type": "display_data"
    }
   ],
   "source": [
    "train.plot(x='divorce', y='response', style='o')\n",
    "plt.show()"
   ]
  },
  {
   "cell_type": "code",
   "execution_count": 4,
   "metadata": {},
   "outputs": [
    {
     "name": "stdout",
     "output_type": "stream",
     "text": [
      "   id  alcohol_consumption  location_class  workstatus  score  divorce  \\\n",
      "0   0                    1               1           6   43.0      0.8   \n",
      "1   1                    1               0           6   42.0      1.2   \n",
      "2   2                    6               2           0   21.0      1.2   \n",
      "3   3                    1               1           6   46.0      1.2   \n",
      "4   4                    2               6           7   36.0      0.8   \n",
      "\n",
      "   widowed  education  residence_region  babies  preteen  teens  income  \\\n",
      "0      1.0       12.0                 0     0.0      0.0    0.0       0   \n",
      "1      1.0       12.0                 7     0.0      0.0    0.0       5   \n",
      "2      0.8       13.0                 0     0.0      0.0    0.0       2   \n",
      "3      1.2       12.0                 7     0.0      0.0    0.0       5   \n",
      "4      1.2       12.0                 7     0.0      0.0    0.0       5   \n",
      "\n",
      "   engagement_religion  x1   tvhours  gender  \n",
      "0                    8   2  3.000000       0  \n",
      "1                    9   2  3.000000       0  \n",
      "2                    5   3  2.619967       1  \n",
      "3                    8   1  1.000000       1  \n",
      "4                    5   2  4.000000       0  \n",
      "shape of test_real  (3105, 17)\n"
     ]
    }
   ],
   "source": [
    "model = tree.DecisionTreeClassifier(min_samples_split=450)\n",
    "model.fit(train.iloc[:,0:17],train.response)\t\n",
    "\n",
    "#prediction = model.predict(test_x)\n",
    "\n",
    "#print('The accuracy of the decision tree is',accuracy_score(prediction,test_y))\n",
    "\n",
    "test_rl=pd.read_csv('test.csv'); #now,reading actual test.csv file for predicting values\n",
    "test_rl=test_rl.fillna(\" \")\n",
    "test_rl = MultiColumnLabelEncoder(columns = ['id','alcohol_consumption','location_class','workstatus','residence_region','income','engagement_religion']).fit_transform(test_rl)\n",
    "test_rl=test_rl.replace(' ',np.NaN)\n",
    "test_rl=test_rl.fillna(train.mean())\n",
    "print(test_rl.head(5))\n",
    "#test_rl = pd.get_dummies(test_rl,columns=['Mjob', 'Fjob','reason'])\n",
    "\n",
    "#test_rl = MultiColumnLabelEncoder(columns = ['school','sex','address','famsize','Pstatus','guardian','schoolsup','famsup','paid','activities','nursery','higher','internet','romantic']).fit_transform(test_rl)\n",
    "\n",
    "print(\"shape of test_real \",test_rl.shape) #checking dimensions\n",
    "\n",
    "prediction_real=model.predict(test_rl) #predicting the output\n",
    "#print(\"shape of prediction_real \",prediction_real.shape)\n",
    "\n",
    "np.savetxt(\"answer1.csv\", prediction_real, delimiter=\",\") #writing the prediction to a file"
   ]
  },
  {
   "cell_type": "code",
   "execution_count": null,
   "metadata": {
    "collapsed": true
   },
   "outputs": [],
   "source": []
  }
 ],
 "metadata": {
  "kernelspec": {
   "display_name": "Python 3",
   "language": "python",
   "name": "python3"
  },
  "language_info": {
   "codemirror_mode": {
    "name": "ipython",
    "version": 3
   },
   "file_extension": ".py",
   "mimetype": "text/x-python",
   "name": "python",
   "nbconvert_exporter": "python",
   "pygments_lexer": "ipython3",
   "version": "3.6.1"
  }
 },
 "nbformat": 4,
 "nbformat_minor": 2
}
